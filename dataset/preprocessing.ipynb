{
 "cells": [
  {
   "cell_type": "markdown",
   "id": "de85013e",
   "metadata": {},
   "source": [
    "### Libraries"
   ]
  },
  {
   "cell_type": "code",
   "execution_count": 10,
   "id": "4aaac85a",
   "metadata": {},
   "outputs": [],
   "source": [
    "import pandas as pd\n",
    "import numpy as np\n",
    "import re\n",
    "import os\n",
    "import pickle\n",
    "import joblib\n",
    "import requests\n",
    "import tarfile\n",
    "import mailparser\n",
    "import re\n",
    "import base64\n",
    "import hashlib\n",
    "import mailbox\n",
    "import math\n",
    "import tempfile # Importato per la gestione sicura dei file temporanei\n",
    "from collections import Counter\n",
    "from email import policy\n",
    "from oletools.olevba import VBA_Parser\n",
    "from scipy.stats import entropy as scipy_entropy\n",
    "from tqdm import tqdm\n",
    "from mailparser import parse_from_file\n",
    "from concurrent.futures import ProcessPoolExecutor, as_completed\n",
    "import string"
   ]
  },
  {
   "cell_type": "markdown",
   "id": "cd84368a",
   "metadata": {},
   "source": [
    "# Dataset 3 features"
   ]
  },
  {
   "cell_type": "code",
   "execution_count": 3,
   "id": "95473042",
   "metadata": {},
   "outputs": [
    {
     "name": "stdout",
     "output_type": "stream",
     "text": [
      "(82486, 4)\n"
     ]
    },
    {
     "data": {
      "text/html": [
       "<div>\n",
       "<style scoped>\n",
       "    .dataframe tbody tr th:only-of-type {\n",
       "        vertical-align: middle;\n",
       "    }\n",
       "\n",
       "    .dataframe tbody tr th {\n",
       "        vertical-align: top;\n",
       "    }\n",
       "\n",
       "    .dataframe thead th {\n",
       "        text-align: right;\n",
       "    }\n",
       "</style>\n",
       "<table border=\"1\" class=\"dataframe\">\n",
       "  <thead>\n",
       "    <tr style=\"text-align: right;\">\n",
       "      <th></th>\n",
       "      <th>subject</th>\n",
       "      <th>body</th>\n",
       "      <th>label</th>\n",
       "      <th>source</th>\n",
       "    </tr>\n",
       "  </thead>\n",
       "  <tbody>\n",
       "    <tr>\n",
       "      <th>0</th>\n",
       "      <td>Re: New Sequences Window</td>\n",
       "      <td>Date:        Wed, 21 Aug 2002 10:54:46 -0500  ...</td>\n",
       "      <td>0</td>\n",
       "      <td>Assassin</td>\n",
       "    </tr>\n",
       "    <tr>\n",
       "      <th>1</th>\n",
       "      <td>[zzzzteana] RE: Alexander</td>\n",
       "      <td>Martin A posted:\\nTassos Papadopoulos, the Gre...</td>\n",
       "      <td>0</td>\n",
       "      <td>Assassin</td>\n",
       "    </tr>\n",
       "    <tr>\n",
       "      <th>2</th>\n",
       "      <td>[zzzzteana] Moscow bomber</td>\n",
       "      <td>Man Threatens Explosion In Moscow \\n\\nThursday...</td>\n",
       "      <td>0</td>\n",
       "      <td>Assassin</td>\n",
       "    </tr>\n",
       "    <tr>\n",
       "      <th>3</th>\n",
       "      <td>[IRR] Klez: The Virus That  Won't Die</td>\n",
       "      <td>Klez: The Virus That Won't Die\\n \\nAlready the...</td>\n",
       "      <td>0</td>\n",
       "      <td>Assassin</td>\n",
       "    </tr>\n",
       "    <tr>\n",
       "      <th>4</th>\n",
       "      <td>Re: [zzzzteana] Nothing like mama used to make</td>\n",
       "      <td>&gt;  in adding cream to spaghetti carbonara, whi...</td>\n",
       "      <td>0</td>\n",
       "      <td>Assassin</td>\n",
       "    </tr>\n",
       "  </tbody>\n",
       "</table>\n",
       "</div>"
      ],
      "text/plain": [
       "                                          subject  \\\n",
       "0                        Re: New Sequences Window   \n",
       "1                       [zzzzteana] RE: Alexander   \n",
       "2                       [zzzzteana] Moscow bomber   \n",
       "3           [IRR] Klez: The Virus That  Won't Die   \n",
       "4  Re: [zzzzteana] Nothing like mama used to make   \n",
       "\n",
       "                                                body  label    source  \n",
       "0  Date:        Wed, 21 Aug 2002 10:54:46 -0500  ...      0  Assassin  \n",
       "1  Martin A posted:\\nTassos Papadopoulos, the Gre...      0  Assassin  \n",
       "2  Man Threatens Explosion In Moscow \\n\\nThursday...      0  Assassin  \n",
       "3  Klez: The Virus That Won't Die\\n \\nAlready the...      0  Assassin  \n",
       "4  >  in adding cream to spaghetti carbonara, whi...      0  Assassin  "
      ]
     },
     "execution_count": 3,
     "metadata": {},
     "output_type": "execute_result"
    }
   ],
   "source": [
    "df = pd.read_csv(\"3_features_phishing.csv\")\n",
    "print(df.shape)\n",
    "df.head()"
   ]
  },
  {
   "cell_type": "code",
   "execution_count": null,
   "id": "b54c2bfe",
   "metadata": {},
   "outputs": [
    {
     "name": "stdout",
     "output_type": "stream",
     "text": [
      "label\n",
      "1    42891\n",
      "0    39595\n",
      "Name: count, dtype: int64\n",
      "label\n",
      "1    0.519979\n",
      "0    0.480021\n",
      "Name: proportion, dtype: float64\n"
     ]
    }
   ],
   "source": [
    "print(df['label'].value_counts())\n",
    "print(df['label'].value_counts(normalize=True))  # percentuali"
   ]
  },
  {
   "cell_type": "code",
   "execution_count": null,
   "id": "11ee69d4",
   "metadata": {},
   "outputs": [
    {
     "name": "stdout",
     "output_type": "stream",
     "text": [
      "subject    0\n",
      "body       0\n",
      "label      0\n",
      "source     0\n",
      "dtype: int64\n",
      "subject    347\n",
      "body         1\n",
      "label        0\n",
      "source       0\n",
      "dtype: int64\n"
     ]
    }
   ],
   "source": [
    "print(df.isnull().sum())  # valori NaN\n",
    "print((df == '').sum())   # celle vuote"
   ]
  },
  {
   "cell_type": "code",
   "execution_count": null,
   "id": "9921220d",
   "metadata": {},
   "outputs": [],
   "source": [
    "df['subject'] = df['subject'].fillna('')\n",
    "df['body'] = df['body'].fillna('')"
   ]
  },
  {
   "cell_type": "code",
   "execution_count": null,
   "id": "fd82291b",
   "metadata": {},
   "outputs": [
    {
     "name": "stdout",
     "output_type": "stream",
     "text": [
      "source\n",
      "CEAS-08           39154\n",
      "Enron             29767\n",
      "Assassin           5809\n",
      "Nigerian_Fraud     3332\n",
      "Ling               2859\n",
      "Nazario            1565\n",
      "Name: count, dtype: int64\n",
      "source          label\n",
      "Assassin        0         4091\n",
      "                1         1718\n",
      "CEAS-08         1        21842\n",
      "                0        17312\n",
      "Enron           0        15791\n",
      "                1        13976\n",
      "Ling            0         2401\n",
      "                1          458\n",
      "Nazario         1         1565\n",
      "Nigerian_Fraud  1         3332\n",
      "Name: count, dtype: int64\n"
     ]
    }
   ],
   "source": [
    "print(df['source'].value_counts())\n",
    "print(df.groupby('source')['label'].value_counts())"
   ]
  },
  {
   "cell_type": "code",
   "execution_count": null,
   "id": "f2a8d41d",
   "metadata": {},
   "outputs": [],
   "source": [
    "'''\n",
    "# Approccio A – Split casuale, ma stratificato per label:\n",
    "\n",
    "from sklearn.model_selection import train_test_split\n",
    "\n",
    "train_df, test_df = train_test_split(df, test_size=0.2, stratify=df['label'], random_state=42)\n",
    "# Buono per modelli generici, ma può portare a overfitting su CEAS-08 se non fai attenzione.\n",
    "\n",
    "\n",
    "\n",
    "#  Approccio B – Leave-one-dataset-out cross-validation\n",
    "# Esempio: Alleni su tutto tranne Enron, testi su Enron.\n",
    "\n",
    "for source_name in df['source'].unique():\n",
    "    train = df[df['source'] != source_name]\n",
    "    test = df[df['source'] == source_name]\n",
    "    # Allena e valuta il modello qui\n",
    "'''"
   ]
  },
  {
   "cell_type": "markdown",
   "id": "efdd0afc",
   "metadata": {},
   "source": [
    "### Enhance"
   ]
  },
  {
   "cell_type": "code",
   "execution_count": 45,
   "id": "6acdd542",
   "metadata": {},
   "outputs": [],
   "source": [
    "df = pd.read_csv(\"3_features_phishing.csv\")\n",
    "df['subject'] = df['subject'].fillna('')\n",
    "df['body'] = df['body'].fillna('')"
   ]
  },
  {
   "cell_type": "code",
   "execution_count": null,
   "id": "93b029a2",
   "metadata": {},
   "outputs": [],
   "source": [
    "def shannon_entropy(text):  #non usata\n",
    "    if not text:\n",
    "        return 0.0\n",
    "    freq = Counter(text)\n",
    "    total_len = len(text)\n",
    "    return -sum((count / total_len) * math.log2(count / total_len) for count in freq.values())\n",
    "\n",
    "def extract_entropy_details(text):\n",
    "    if not text:\n",
    "        return 0.0, 0.0, 0.0, 0.0, 0.0\n",
    "\n",
    "    total_len = len(text)\n",
    "    freq = Counter(text)\n",
    "    entropy = -sum((count / total_len) * math.log2(count / total_len) for count in freq.values())\n",
    "\n",
    "    non_ascii_count = sum(1 for c in text if ord(c) > 127)\n",
    "    digit_count = sum(1 for c in text if c.isdigit())\n",
    "    punct_count = sum(1 for c in text if c in string.punctuation)\n",
    "\n",
    "    entropy_per_char = entropy / total_len if total_len > 0 else 0.0\n",
    "    percent_non_ascii = non_ascii_count / total_len\n",
    "    percent_digits = digit_count / total_len\n",
    "    percent_punct = punct_count / total_len\n",
    "\n",
    "    return entropy, entropy_per_char, percent_non_ascii, percent_digits, percent_punct\n",
    "\n",
    "def extract_features(df):\n",
    "    df['subject_len'] = df['subject'].str.len() # sono altamente correlate\n",
    "    df['num_words_subject'] = df['subject'].str.split().str.len()\n",
    "\n",
    "    df['body_len'] = df['body'].str.len()                       # anche queste sono molto correlate\n",
    "    df['num_words_body'] = df['body'].str.split().str.len()\n",
    "\n",
    "    df['subject_density'] = df['subject_len'] / (df['num_words_subject'] + 1)\n",
    "    df['body_density'] = df['body_len'] / (df['num_words_body'] + 1)\n",
    "\n",
    "    df['num_links'] = df['body'].str.count(r'http[s]?://')\n",
    "    df['num_special_chars'] = df['body'].str.count(r'[\\$\\@\\!\\#\\%]')\n",
    "    df['num_exclamations'] = df['body'].str.count(r'!')\n",
    "\n",
    "    df['has_ip_link'] = df['body'].str.contains(r'http[s]?://\\d{1,3}(?:\\.\\d{1,3}){3}').astype(int)\n",
    "    df['has_bank_word'] = df['body'].str.contains(r'\\b(?:bank|account|verify|login|password)\\b', flags=re.IGNORECASE).astype(int)\n",
    "\n",
    "    # Entropia e metriche derivate\n",
    "    entropy_details = df['body'].apply(extract_entropy_details)\n",
    "    df['body_entropy'] = entropy_details.apply(lambda x: round(x[0], 4))\n",
    "    df['body_entropy_per_char'] = entropy_details.apply(lambda x: round(x[1], 6))\n",
    "    df['percent_non_ascii'] = entropy_details.apply(lambda x: round(x[2], 4))\n",
    "    df['percent_digits'] = entropy_details.apply(lambda x: round(x[3], 4))\n",
    "    df['percent_punct'] = entropy_details.apply(lambda x: round(x[4], 4))\n",
    "    df['text'] = df['subject'] + ' ' + df['body']\n",
    "\n",
    "    # rimuovo le features\n",
    "    df = df.drop(columns=['num_words_body','num_words_subject', 'has_ip_link', 'percent_non_ascii'])  # rimuove la colonna target\n",
    "\n",
    "    df = df.drop(columns=[])\n",
    "    return df"
   ]
  },
  {
   "cell_type": "code",
   "execution_count": 47,
   "id": "bf756ba4",
   "metadata": {},
   "outputs": [],
   "source": [
    "df2 = extract_features(df)"
   ]
  },
  {
   "cell_type": "code",
   "execution_count": 48,
   "id": "a3d1229f",
   "metadata": {},
   "outputs": [
    {
     "data": {
      "text/plain": [
       "Index(['subject', 'body', 'label', 'source', 'subject_len', 'body_len',\n",
       "       'subject_density', 'body_density', 'num_links', 'num_special_chars',\n",
       "       'num_exclamations', 'has_bank_word', 'body_entropy',\n",
       "       'body_entropy_per_char', 'percent_digits', 'percent_punct', 'text'],\n",
       "      dtype='object')"
      ]
     },
     "execution_count": 48,
     "metadata": {},
     "output_type": "execute_result"
    }
   ],
   "source": [
    "df2.columns"
   ]
  },
  {
   "cell_type": "code",
   "execution_count": 49,
   "id": "2d6763aa",
   "metadata": {},
   "outputs": [],
   "source": [
    "df2.to_csv(\"3_features_phishing_enhanced.csv\", index=False)"
   ]
  },
  {
   "cell_type": "markdown",
   "id": "d2386145",
   "metadata": {},
   "source": [
    "# Second Dataset"
   ]
  },
  {
   "cell_type": "code",
   "execution_count": 3,
   "id": "ac3be3f2",
   "metadata": {},
   "outputs": [
    {
     "name": "stdout",
     "output_type": "stream",
     "text": [
      "(49860, 8)\n"
     ]
    },
    {
     "data": {
      "text/html": [
       "<div>\n",
       "<style scoped>\n",
       "    .dataframe tbody tr th:only-of-type {\n",
       "        vertical-align: middle;\n",
       "    }\n",
       "\n",
       "    .dataframe tbody tr th {\n",
       "        vertical-align: top;\n",
       "    }\n",
       "\n",
       "    .dataframe thead th {\n",
       "        text-align: right;\n",
       "    }\n",
       "</style>\n",
       "<table border=\"1\" class=\"dataframe\">\n",
       "  <thead>\n",
       "    <tr style=\"text-align: right;\">\n",
       "      <th></th>\n",
       "      <th>subject</th>\n",
       "      <th>body</th>\n",
       "      <th>label</th>\n",
       "      <th>source</th>\n",
       "      <th>sender</th>\n",
       "      <th>receiver</th>\n",
       "      <th>date</th>\n",
       "      <th>urls</th>\n",
       "    </tr>\n",
       "  </thead>\n",
       "  <tbody>\n",
       "    <tr>\n",
       "      <th>0</th>\n",
       "      <td>Re: New Sequences Window</td>\n",
       "      <td>Date:        Wed, 21 Aug 2002 10:54:46 -0500  ...</td>\n",
       "      <td>0</td>\n",
       "      <td>Assassin</td>\n",
       "      <td>Robert Elz &lt;kre@munnari.OZ.AU&gt;</td>\n",
       "      <td>Chris Garrigues &lt;cwg-dated-1030377287.06fa6d@D...</td>\n",
       "      <td>Thu, 22 Aug 2002 18:26:25 +0700</td>\n",
       "      <td>1</td>\n",
       "    </tr>\n",
       "    <tr>\n",
       "      <th>1</th>\n",
       "      <td>[zzzzteana] RE: Alexander</td>\n",
       "      <td>Martin A posted:\\nTassos Papadopoulos, the Gre...</td>\n",
       "      <td>0</td>\n",
       "      <td>Assassin</td>\n",
       "      <td>Steve Burt &lt;Steve_Burt@cursor-system.com&gt;</td>\n",
       "      <td>\"'zzzzteana@yahoogroups.com'\" &lt;zzzzteana@yahoo...</td>\n",
       "      <td>Thu, 22 Aug 2002 12:46:18 +0100</td>\n",
       "      <td>1</td>\n",
       "    </tr>\n",
       "    <tr>\n",
       "      <th>2</th>\n",
       "      <td>[zzzzteana] Moscow bomber</td>\n",
       "      <td>Man Threatens Explosion In Moscow \\n\\nThursday...</td>\n",
       "      <td>0</td>\n",
       "      <td>Assassin</td>\n",
       "      <td>\"Tim Chapman\" &lt;timc@2ubh.com&gt;</td>\n",
       "      <td>zzzzteana &lt;zzzzteana@yahoogroups.com&gt;</td>\n",
       "      <td>Thu, 22 Aug 2002 13:52:38 +0100</td>\n",
       "      <td>1</td>\n",
       "    </tr>\n",
       "    <tr>\n",
       "      <th>3</th>\n",
       "      <td>[IRR] Klez: The Virus That  Won't Die</td>\n",
       "      <td>Klez: The Virus That Won't Die\\n \\nAlready the...</td>\n",
       "      <td>0</td>\n",
       "      <td>Assassin</td>\n",
       "      <td>Monty Solomon &lt;monty@roscom.com&gt;</td>\n",
       "      <td>undisclosed-recipient: ;</td>\n",
       "      <td>Thu, 22 Aug 2002 09:15:25 -0400</td>\n",
       "      <td>1</td>\n",
       "    </tr>\n",
       "    <tr>\n",
       "      <th>4</th>\n",
       "      <td>Re: [zzzzteana] Nothing like mama used to make</td>\n",
       "      <td>&gt;  in adding cream to spaghetti carbonara, whi...</td>\n",
       "      <td>0</td>\n",
       "      <td>Assassin</td>\n",
       "      <td>Stewart Smith &lt;Stewart.Smith@ee.ed.ac.uk&gt;</td>\n",
       "      <td>zzzzteana@yahoogroups.com</td>\n",
       "      <td>Thu, 22 Aug 2002 14:38:22 +0100</td>\n",
       "      <td>1</td>\n",
       "    </tr>\n",
       "  </tbody>\n",
       "</table>\n",
       "</div>"
      ],
      "text/plain": [
       "                                          subject  \\\n",
       "0                        Re: New Sequences Window   \n",
       "1                       [zzzzteana] RE: Alexander   \n",
       "2                       [zzzzteana] Moscow bomber   \n",
       "3           [IRR] Klez: The Virus That  Won't Die   \n",
       "4  Re: [zzzzteana] Nothing like mama used to make   \n",
       "\n",
       "                                                body  label    source  \\\n",
       "0  Date:        Wed, 21 Aug 2002 10:54:46 -0500  ...      0  Assassin   \n",
       "1  Martin A posted:\\nTassos Papadopoulos, the Gre...      0  Assassin   \n",
       "2  Man Threatens Explosion In Moscow \\n\\nThursday...      0  Assassin   \n",
       "3  Klez: The Virus That Won't Die\\n \\nAlready the...      0  Assassin   \n",
       "4  >  in adding cream to spaghetti carbonara, whi...      0  Assassin   \n",
       "\n",
       "                                      sender  \\\n",
       "0             Robert Elz <kre@munnari.OZ.AU>   \n",
       "1  Steve Burt <Steve_Burt@cursor-system.com>   \n",
       "2              \"Tim Chapman\" <timc@2ubh.com>   \n",
       "3           Monty Solomon <monty@roscom.com>   \n",
       "4  Stewart Smith <Stewart.Smith@ee.ed.ac.uk>   \n",
       "\n",
       "                                            receiver  \\\n",
       "0  Chris Garrigues <cwg-dated-1030377287.06fa6d@D...   \n",
       "1  \"'zzzzteana@yahoogroups.com'\" <zzzzteana@yahoo...   \n",
       "2              zzzzteana <zzzzteana@yahoogroups.com>   \n",
       "3                           undisclosed-recipient: ;   \n",
       "4                          zzzzteana@yahoogroups.com   \n",
       "\n",
       "                              date  urls  \n",
       "0  Thu, 22 Aug 2002 18:26:25 +0700     1  \n",
       "1  Thu, 22 Aug 2002 12:46:18 +0100     1  \n",
       "2  Thu, 22 Aug 2002 13:52:38 +0100     1  \n",
       "3  Thu, 22 Aug 2002 09:15:25 -0400     1  \n",
       "4  Thu, 22 Aug 2002 14:38:22 +0100     1  "
      ]
     },
     "execution_count": 3,
     "metadata": {},
     "output_type": "execute_result"
    }
   ],
   "source": [
    "df = pd.read_csv(\"7_features_phishing.csv\")\n",
    "print(df.shape)\n",
    "df.head()"
   ]
  },
  {
   "cell_type": "code",
   "execution_count": 4,
   "id": "89dd467c",
   "metadata": {},
   "outputs": [
    {
     "name": "stdout",
     "output_type": "stream",
     "text": [
      "label\n",
      "1    28457\n",
      "0    21403\n",
      "Name: count, dtype: int64\n",
      "label\n",
      "1    0.570738\n",
      "0    0.429262\n",
      "Name: proportion, dtype: float64\n"
     ]
    }
   ],
   "source": [
    "print(df['label'].value_counts())\n",
    "print(df['label'].value_counts(normalize=True))  # percentuali\n"
   ]
  },
  {
   "cell_type": "code",
   "execution_count": 7,
   "id": "d66cd45e",
   "metadata": {},
   "outputs": [
    {
     "name": "stdout",
     "output_type": "stream",
     "text": [
      "subject     0\n",
      "body        0\n",
      "label       0\n",
      "source      0\n",
      "sender      0\n",
      "receiver    0\n",
      "date        0\n",
      "urls        0\n",
      "dtype: int64\n"
     ]
    },
    {
     "name": "stdout",
     "output_type": "stream",
     "text": [
      "subject       87\n",
      "body           1\n",
      "label          0\n",
      "source         0\n",
      "sender       331\n",
      "receiver    2092\n",
      "date         483\n",
      "urls           0\n",
      "dtype: int64\n"
     ]
    }
   ],
   "source": [
    "print(df.isnull().sum())  # valori NaN\n",
    "print((df == '').sum())   # celle vuote"
   ]
  },
  {
   "cell_type": "code",
   "execution_count": 6,
   "id": "5ce79bfe",
   "metadata": {},
   "outputs": [],
   "source": [
    "df['subject'] = df['subject'].fillna('')\n",
    "df['body'] = df['body'].fillna('')\n",
    "df['sender'] = df['sender'].fillna('')\n",
    "df['receiver'] = df['receiver'].fillna('')\n",
    "df['date'] = df['date'].fillna('')"
   ]
  },
  {
   "cell_type": "code",
   "execution_count": 11,
   "id": "c075ac45",
   "metadata": {},
   "outputs": [
    {
     "name": "stdout",
     "output_type": "stream",
     "text": [
      "source\n",
      "CEAS-08           39154\n",
      "Assassin           5809\n",
      "Nigerian_Fraud     3332\n",
      "Nazario            1565\n",
      "Name: count, dtype: int64\n",
      "source          label\n",
      "Assassin        0         4091\n",
      "                1         1718\n",
      "CEAS-08         1        21842\n",
      "                0        17312\n",
      "Nazario         1         1565\n",
      "Nigerian_Fraud  1         3332\n",
      "Name: count, dtype: int64\n"
     ]
    }
   ],
   "source": [
    "print(df['source'].value_counts())\n",
    "print(df.groupby('source')['label'].value_counts())"
   ]
  },
  {
   "cell_type": "code",
   "execution_count": null,
   "id": "92b58bf9",
   "metadata": {},
   "outputs": [],
   "source": [
    "def shannon_entropy(text):\n",
    "    if not text:\n",
    "        return 0.0\n",
    "    freq = Counter(text)\n",
    "    total_len = len(text)\n",
    "    return -sum((count / total_len) * math.log2(count / total_len) for count in freq.values())\n",
    "\n",
    "def extract_entropy_details(text):\n",
    "    if not text:\n",
    "        return 0.0, 0.0, 0.0, 0.0, 0.0\n",
    "\n",
    "    total_len = len(text)\n",
    "    freq = Counter(text)\n",
    "    entropy = -sum((count / total_len) * math.log2(count / total_len) for count in freq.values())\n",
    "\n",
    "    non_ascii_count = sum(1 for c in text if ord(c) > 127)\n",
    "    digit_count = sum(1 for c in text if c.isdigit())\n",
    "    punct_count = sum(1 for c in text if c in string.punctuation)\n",
    "\n",
    "    entropy_per_char = entropy / total_len if total_len > 0 else 0.0\n",
    "    percent_non_ascii = non_ascii_count / total_len\n",
    "    percent_digits = digit_count / total_len\n",
    "    percent_punct = punct_count / total_len\n",
    "\n",
    "    return entropy, entropy_per_char, percent_non_ascii, percent_digits, percent_punct\n",
    "\n",
    "def extract_features(df):\n",
    "    df['subject_len'] = df['subject'].str.len() # sono altamente correlate\n",
    "    df['num_words_subject'] = df['subject'].str.split().str.len()\n",
    "\n",
    "    df['body_len'] = df['body'].str.len()                       # anche queste sono molto correlate\n",
    "    df['num_words_body'] = df['body'].str.split().str.len()\n",
    "\n",
    "    df['subject_density'] = df['subject_len'] / (df['num_words_subject'] + 1)\n",
    "    df['body_density'] = df['body_len'] / (df['num_words_body'] + 1)\n",
    "\n",
    "    df['num_links'] = df['body'].str.count(r'http[s]?://')\n",
    "    df['num_special_chars'] = df['body'].str.count(r'[\\$\\@\\!\\#\\%]')\n",
    "    df['num_exclamations'] = df['body'].str.count(r'!')\n",
    "\n",
    "    df['has_ip_link'] = df['body'].str.contains(r'http[s]?://\\d{1,3}(?:\\.\\d{1,3}){3}').astype(int)\n",
    "    df['has_bank_word'] = df['body'].str.contains(r'\\b(?:bank|account|verify|login|password)\\b', flags=re.IGNORECASE).astype(int)\n",
    "\n",
    "    # Entropia e metriche derivate\n",
    "    entropy_details = df['body'].apply(extract_entropy_details)\n",
    "    df['body_entropy'] = entropy_details.apply(lambda x: round(x[0], 4))\n",
    "    df['body_entropy_per_char'] = entropy_details.apply(lambda x: round(x[1], 6))\n",
    "    df['percent_non_ascii'] = entropy_details.apply(lambda x: round(x[2], 4))\n",
    "    df['percent_digits'] = entropy_details.apply(lambda x: round(x[3], 4))\n",
    "    df['percent_punct'] = entropy_details.apply(lambda x: round(x[4], 4))\n",
    "    df['text'] = df['subject'] + ' ' + df['body']\n",
    "\n",
    "    # rimuovo le features\n",
    "    df = df.drop(columns=['num_words_body','num_words_subject', 'has_ip_link', 'percent_non_ascii'])  # rimuove la colonna target\n",
    "\n",
    "    df = df.drop(columns=[])\n",
    "\n",
    "\n",
    "\n",
    "    return df"
   ]
  }
 ],
 "metadata": {
  "kernelspec": {
   "display_name": ".venv (3.11.9)",
   "language": "python",
   "name": "python3"
  },
  "language_info": {
   "codemirror_mode": {
    "name": "ipython",
    "version": 3
   },
   "file_extension": ".py",
   "mimetype": "text/x-python",
   "name": "python",
   "nbconvert_exporter": "python",
   "pygments_lexer": "ipython3",
   "version": "3.11.9"
  }
 },
 "nbformat": 4,
 "nbformat_minor": 5
}
